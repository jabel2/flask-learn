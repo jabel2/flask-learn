{
 "cells": [
  {
   "cell_type": "code",
   "execution_count": 28,
   "metadata": {},
   "outputs": [
    {
     "name": "stdout",
     "output_type": "stream",
     "text": [
      " * Serving Flask app \"__main__\" (lazy loading)\n",
      " * Environment: production\n",
      "   WARNING: This is a development server. Do not use it in a production deployment.\n",
      "   Use a production WSGI server instead.\n",
      " * Debug mode: off\n"
     ]
    },
    {
     "name": "stderr",
     "output_type": "stream",
     "text": [
      " * Running on http://127.0.0.1:5000/ (Press CTRL+C to quit)\n",
      "127.0.0.1 - - [28/May/2019 08:46:32] \"\u001b[37mGET /theform HTTP/1.1\u001b[0m\" 200 -\n",
      "127.0.0.1 - - [28/May/2019 08:46:37] \"\u001b[37mPOST /process HTTP/1.1\u001b[0m\" 200 -\n",
      "127.0.0.1 - - [28/May/2019 08:46:43] \"\u001b[37mGET /theform HTTP/1.1\u001b[0m\" 200 -\n",
      "127.0.0.1 - - [28/May/2019 08:46:49] \"\u001b[37mPOST /process HTTP/1.1\u001b[0m\" 200 -\n"
     ]
    }
   ],
   "source": [
    "from flask import Flask, request, jsonify, url_for, redirect, session\n",
    "\n",
    "app = Flask(__name__)\n",
    "\n",
    "app.config['DEBUG'] = True\n",
    "app.config['SECRET_KEY'] = 'ThisSecret'\n",
    "\n",
    "@app.route('/')\n",
    "def index():\n",
    "    return '<h1>Hello</h1>'\n",
    "\n",
    "@app.route('/home', methods= ['GET', 'POST'], defaults={'name' : 'Default'})\n",
    "@app.route('/home/<name>')\n",
    "def home(name):\n",
    "    session['name'] = name\n",
    "    return '<h1>Home Page, {} </h1>'.format(name)\n",
    "\n",
    "@app.route('/query')\n",
    "def query():\n",
    "    name = request.args.get('name')\n",
    "    location = request.args.get('location')\n",
    "    return '<h1>Hi {}, you are from {}.  Currently on query Page </h1>'.format(name, location)\n",
    "\n",
    "@app.route('/theform')\n",
    "def theform():\n",
    "    return '<form method=\"POST\" action=\"/process\"><input type =\"text\" name=\"name\"><input type=\"text\" name=\"location\"><input type=\"submit\"></form>'\n",
    "\n",
    "@app.route('/process', methods=['POST'])\n",
    "def process():\n",
    "    name = request.form['name']\n",
    "    location = request.form['location']\n",
    "    return 'Hello {}, you are from {}.  Submitted successfully'.format(name, location)\n",
    "\n",
    "\n",
    "\n",
    "if __name__ == '__main__':\n",
    "    app.run()"
   ]
  },
  {
   "cell_type": "code",
   "execution_count": null,
   "metadata": {},
   "outputs": [],
   "source": []
  }
 ],
 "metadata": {
  "kernelspec": {
   "display_name": "Python 3",
   "language": "python",
   "name": "python3"
  },
  "language_info": {
   "codemirror_mode": {
    "name": "ipython",
    "version": 3
   },
   "file_extension": ".py",
   "mimetype": "text/x-python",
   "name": "python",
   "nbconvert_exporter": "python",
   "pygments_lexer": "ipython3",
   "version": "3.7.3"
  }
 },
 "nbformat": 4,
 "nbformat_minor": 2
}
